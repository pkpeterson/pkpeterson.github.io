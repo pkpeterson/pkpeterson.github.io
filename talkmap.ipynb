{
 "cells": [
  {
   "cell_type": "markdown",
   "metadata": {},
   "source": [
    "# Leaflet cluster map of talk locations\n",
    "\n",
    "Run this from the _talks/ directory, which contains .md files of all your talks. This scrapes the location YAML field from each .md file, geolocates it with geopy/Nominatim, and uses the getorg library to output data, HTML, and Javascript for a standalone cluster map."
   ]
  },
  {
   "cell_type": "code",
   "execution_count": 9,
   "metadata": {
    "scrolled": true
   },
   "outputs": [
    {
     "name": "stdout",
     "output_type": "stream",
     "text": [
      "Requirement already up-to-date: getorg in c:\\users\\ppeterso\\appdata\\local\\continuum\\anaconda3\\lib\\site-packages (0.3.1)\n",
      "Requirement already satisfied, skipping upgrade: retrying in c:\\users\\ppeterso\\appdata\\local\\continuum\\anaconda3\\lib\\site-packages (from getorg) (1.3.3)\n",
      "Requirement already satisfied, skipping upgrade: pygithub in c:\\users\\ppeterso\\appdata\\local\\continuum\\anaconda3\\lib\\site-packages (from getorg) (1.43.3)\n",
      "Requirement already satisfied, skipping upgrade: geopy in c:\\users\\ppeterso\\appdata\\local\\continuum\\anaconda3\\lib\\site-packages (from getorg) (1.17.0)\n",
      "Requirement already satisfied, skipping upgrade: six>=1.7.0 in c:\\users\\ppeterso\\appdata\\local\\continuum\\anaconda3\\lib\\site-packages (from retrying->getorg) (1.11.0)\n",
      "Requirement already satisfied, skipping upgrade: Deprecated in c:\\users\\ppeterso\\appdata\\local\\continuum\\anaconda3\\lib\\site-packages (from pygithub->getorg) (1.2.4)\n",
      "Requirement already satisfied, skipping upgrade: requests>=2.14.0 in c:\\users\\ppeterso\\appdata\\local\\continuum\\anaconda3\\lib\\site-packages (from pygithub->getorg) (2.18.4)\n",
      "Requirement already satisfied, skipping upgrade: pyjwt in c:\\users\\ppeterso\\appdata\\local\\continuum\\anaconda3\\lib\\site-packages (from pygithub->getorg) (1.6.4)\n",
      "Requirement already satisfied, skipping upgrade: geographiclib<2,>=1.49 in c:\\users\\ppeterso\\appdata\\local\\continuum\\anaconda3\\lib\\site-packages (from geopy->getorg) (1.49)\n",
      "Requirement already satisfied, skipping upgrade: wrapt<2,>=1 in c:\\users\\ppeterso\\appdata\\local\\continuum\\anaconda3\\lib\\site-packages (from Deprecated->pygithub->getorg) (1.10.11)\n",
      "Requirement already satisfied, skipping upgrade: chardet<3.1.0,>=3.0.2 in c:\\users\\ppeterso\\appdata\\local\\continuum\\anaconda3\\lib\\site-packages (from requests>=2.14.0->pygithub->getorg) (3.0.4)\n",
      "Requirement already satisfied, skipping upgrade: idna<2.7,>=2.5 in c:\\users\\ppeterso\\appdata\\local\\continuum\\anaconda3\\lib\\site-packages (from requests>=2.14.0->pygithub->getorg) (2.6)\n",
      "Requirement already satisfied, skipping upgrade: urllib3<1.23,>=1.21.1 in c:\\users\\ppeterso\\appdata\\local\\continuum\\anaconda3\\lib\\site-packages (from requests>=2.14.0->pygithub->getorg) (1.22)\n",
      "Requirement already satisfied, skipping upgrade: certifi>=2017.4.17 in c:\\users\\ppeterso\\appdata\\local\\continuum\\anaconda3\\lib\\site-packages (from requests>=2.14.0->pygithub->getorg) (2018.4.16)\n"
     ]
    }
   ],
   "source": [
    "!pip install getorg --upgrade\n",
    "import glob\n",
    "import getorg\n",
    "from geopy import Nominatim"
   ]
  },
  {
   "cell_type": "code",
   "execution_count": 17,
   "metadata": {},
   "outputs": [
    {
     "name": "stdout",
     "output_type": "stream",
     "text": [
      "['_talks\\\\2011-06-01-poster-7.md', '_talks\\\\2012-03-01-talk-8.md', '_talks\\\\2012-10-01-talk-7.md', '_talks\\\\2012-12-01-poster-5.md', '_talks\\\\2012-12-01-poster-6.md', '_talks\\\\2013-12-01-talk-6.md', '_talks\\\\2015-07-01-talk-2.md', '_talks\\\\2015-07-01-talk-5.md', '_talks\\\\2016-09-01-poster-4.md', '_talks\\\\2016-12-01-talk-4.md', '_talks\\\\2017-03-01-talk-1.md', '_talks\\\\2017-05-01-talk-3.md', '_talks\\\\2017-05-31-talk-3.md', '_talks\\\\2017-07-01-poster-3.md', '_talks\\\\2017-09-01-poster-2.md', '_talks\\\\2017-12-01-poster-1.md']\n"
     ]
    }
   ],
   "source": [
    "g = glob.glob(\"_talks/*.md\")\n",
    "print(g)"
   ]
  },
  {
   "cell_type": "code",
   "execution_count": 18,
   "metadata": {},
   "outputs": [
    {
     "name": "stderr",
     "output_type": "stream",
     "text": [
      "C:\\Users\\ppeterso\\AppData\\Local\\Continuum\\anaconda3\\lib\\site-packages\\geopy\\geocoders\\osm.py:143: UserWarning: Using Nominatim with the default \"geopy/1.17.0\" `user_agent` is strongly discouraged, as it violates Nominatim's ToS https://operations.osmfoundation.org/policies/nominatim/ and may possibly cause 403 and 429 HTTP errors. Please specify a custom `user_agent` with `Nominatim(user_agent=\"my-application\")` or by overriding the default `user_agent`: `geopy.geocoders.options.default_user_agent = \"my-application\"`. In geopy 2.0 this will become an exception.\n",
      "  UserWarning\n"
     ]
    }
   ],
   "source": [
    "geocoder = Nominatim()\n",
    "location_dict = {}\n",
    "location = \"\"\n",
    "permalink = \"\"\n",
    "title = \"\""
   ]
  },
  {
   "cell_type": "code",
   "execution_count": 24,
   "metadata": {},
   "outputs": [
    {
     "name": "stdout",
     "output_type": "stream",
     "text": [
      "New York, New York \n",
      " NYC, New York, USA\n",
      "Fairbanks, Alaska \n",
      " Fairbanks, Fairbanks North Star, Alaska, USA\n",
      "Seattle, Washington \n",
      " Seattle, King County, Washington, USA\n",
      "San Francisco, California \n",
      " SF, California, USA\n",
      "San Francisco, California \n",
      " SF, California, USA\n",
      "San Francisco, California \n",
      " SF, California, USA\n",
      "Heidelberg, Germany \n",
      " Heidelberg, Regierungsbezirk Karlsruhe, Baden-Württemberg, 69120, Deutschland\n",
      "Brussels, Belgium \n",
      " BXL, Brussel-Hoofdstad - Bruxelles-Capitale, Région de Bruxelles-Capitale - Brussels Hoofdstedelijk Gewest, 1000, België / Belgique / Belgien\n",
      "Breckenridge, Colorado \n",
      " Breckenridge, Summit County, Colorado, 80424, USA\n",
      "San Francisco, California \n",
      " SF, California, USA\n",
      "Rochester, New York \n",
      " Rochester, Monroe County, New York, 14614, USA\n",
      "Toronto, Canada \n",
      " Toronto, Ontario, Canada\n",
      "Toronto, Canada \n",
      " Toronto, Ontario, Canada\n",
      "Alliston, Ontario, Canada \n",
      " Alliston, Simcoe, Ontario, L9R 1G9, Canada\n",
      "Yokohama, Japan \n",
      " 横浜市, 神奈川県, 関東地方, 日本\n",
      "New Orleans, Louisiana \n",
      " New Orleans, Orleans Parish, Louisiana, USA\n"
     ]
    }
   ],
   "source": [
    "\n",
    "for file in g:\n",
    "    with open(file, 'r') as f:\n",
    "        lines = f.read()\n",
    "        if lines.find('location: \"') > 1:\n",
    "            loc_start = lines.find('location: \"') + 11\n",
    "            lines_trim = lines[loc_start:]\n",
    "            loc_end = lines_trim.find('\"')\n",
    "            location = lines_trim[:loc_end]\n",
    "                            \n",
    "           \n",
    "        location_dict[location] = geocoder.geocode(location)\n",
    "        print(location, \"\\n\", location_dict[location])\n"
   ]
  },
  {
   "cell_type": "code",
   "execution_count": 25,
   "metadata": {},
   "outputs": [
    {
     "data": {
      "text/plain": [
       "'Written map to talkmap/'"
      ]
     },
     "execution_count": 25,
     "metadata": {},
     "output_type": "execute_result"
    }
   ],
   "source": [
    "m = getorg.orgmap.create_map_obj()\n",
    "getorg.orgmap.output_html_cluster_map(location_dict, folder_name=\"talkmap\", hashed_usernames=False)"
   ]
  },
  {
   "cell_type": "code",
   "execution_count": null,
   "metadata": {},
   "outputs": [],
   "source": []
  },
  {
   "cell_type": "code",
   "execution_count": null,
   "metadata": {},
   "outputs": [],
   "source": []
  }
 ],
 "metadata": {
  "anaconda-cloud": {},
  "kernelspec": {
   "display_name": "Python 3",
   "language": "python",
   "name": "python3"
  },
  "language_info": {
   "codemirror_mode": {
    "name": "ipython",
    "version": 3
   },
   "file_extension": ".py",
   "mimetype": "text/x-python",
   "name": "python",
   "nbconvert_exporter": "python",
   "pygments_lexer": "ipython3",
   "version": "3.6.5"
  }
 },
 "nbformat": 4,
 "nbformat_minor": 1
}
